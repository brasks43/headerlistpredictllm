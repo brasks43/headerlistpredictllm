{
 "cells": [
  {
   "cell_type": "markdown",
   "metadata": {
    "id": "_2oDwbsJihUB"
   },
   "source": [
    "Step 1: Install and load model"
   ]
  },
  {
   "cell_type": "code",
   "execution_count": null,
   "metadata": {
    "colab": {
     "base_uri": "https://localhost:8080/",
     "height": 780,
     "referenced_widgets": [
      "baaf9277c44e41be8966905d4ad0a8f3",
      "19aa62d892cf4c8cb5b74f8c65669e97",
      "0a547b7c07c34a3ead336fe9f452ebcf",
      "f30dc4d914ba4c2ca7778259bc097a80",
      "816f27095cc3470eb077c09e09d8ad97",
      "5d2a4fe6d9fa4fe7b5e1de295ebd6b9c",
      "aec01375a92f4527b974c11d1d9f019d",
      "72b81ee758e945f39c38d07e057bff22",
      "9aa8218449bc426bbce44b173f97d5fd",
      "df05165883e94857b0f75e8fee2e3a47",
      "b90d9c4dbdc8454ebcf8f560407a6088",
      "feb5619601994c48bfc91233afaf2ef4",
      "3774a22fec0b4bf1bf6cdf63666fffb2",
      "005ac1be853440da9cbfdad3d88c621b",
      "ca25b15a9e6d487996b48724000799e6",
      "80eef383b39b43e4befa8927281824c6",
      "663909bb16c243c08c8af6c4723675d9",
      "69d7959494774087913a4663b3b41ffb",
      "36921629c4944422aeef0813e546ca65",
      "0fd8373034924734bd81cc56d5573ce9",
      "6b034e4346c445a79fe3b34cc9971d62",
      "f55289a5489d4bd98589bc9d53d2b9e4",
      "1c607ceed8664290ba6b85bb14ad03fb",
      "10816c8edd91458aa2fd05d9fcc28ffa",
      "52c8aefb3f51453682913a2988190e21",
      "5f8306cd4ccf400d82b18857723dc120",
      "83e927ec4c2f4932ae40dd7f0903b14e",
      "7082b75693e04fc987ec49713e029fd1",
      "bf1167b6fbbb4b808eb700e92dcef647",
      "aaf266823f434ad084263e92d280ac4a",
      "456e48c8fa2d468b8ce3f0901b0e10c9",
      "44833bdd2f274e26b86a7985ddd00274",
      "6b7015a1cf3d4c67b855e01b785da11f",
      "e56b2bed87d047f3b0f6372a192a29a0",
      "9c327a283dd94903b66568dc57cc38e5",
      "b9a88654f241471da2ba1999fccf17da",
      "21663ae3b85e4ca8bb2a43dac659a1f3",
      "c614732ff1b74485b8a9d7fcac76086b",
      "ed741a24d11346769dedf447cfd2c691",
      "50dd196354054b15879ac871b34f2ae3",
      "e65504d0defb42e184e8c6579b61bedd",
      "bc5e9568c6214033b809f37b6b61cfbf",
      "7143c290b1164e1f868d983ded7f133c",
      "4e7d319829de45f7a7957d649cd0bfe0",
      "b6cf0b2dbb6b49d89e77c6e706aecb5d",
      "d79f99653e824ce289802941463c7835",
      "c7a17b282f29484c835fbc98a9b1b38f",
      "e2eb1df7c093415b85ce56c679921567",
      "e65214330f634cceb90e947a928f2605",
      "d828d3f1cc464c26a00e996be3fb05a8",
      "7c06e8f7fff447ff8ccc3708db144d68",
      "2646c61849794ed6a67c49ebc0981905",
      "c0e3211c95b448ed9ba3c58b9a6d3e47",
      "549eeb6a73f9415d8cbdb40d332c1a4c",
      "bd934c68b4c44ec19b2061fc6c331d39",
      "b7992c59a70d4b76807033289871a185",
      "5e8abc6b003148dda61a993d9d7127d4",
      "a123a10bd22643f7a9a813a1b64e35b0",
      "21c1271f19ad4c77873deaf6d6193477",
      "d35e0ce45eab4083937ef9ecf6474e49",
      "e0df1d24abb644c78f56c0a13ba26cac",
      "cc2e44dc0cd241f0a7fcf31aaac8ca18",
      "5c99d0fa6941400bafc7bec28cdf2f3c",
      "e2064aa7f85c4969b9d2d848b0930771",
      "c4ea3aabfc6041b9a36d81369bea728e",
      "ecca60d4f4eb4933ab3ee8d9570d8b22",
      "897fc04a89964315b45ece5a385c211b",
      "51b281f7cf914771ae181c9cf98c7ef7",
      "27991afa11f142358052085951d7a353",
      "39112f0c49554c8ea4212869ea55f45d",
      "d82dd0e82c384b8285e0480761d35c20",
      "bb360a85f4a44b2c9980d3708f5996b5",
      "eaa4fa1d2c6540f4ac650659f44a1529",
      "53d705f7d5254a52a778dd2544137db4",
      "b3685439bcb64811a4c34a5b833b5ede",
      "9d25d5b8f7dd4a53b654fad7f8646d1a",
      "8bac7d23d35044558c15e6c079c92ea7",
      "55a9fc54e380496e9b11c955edccea9b",
      "f44962839463406cbb55404393c582f5",
      "e9769605d5304b48b0104706058f033b",
      "971eefdd953f4950b40a053295796857",
      "1e39850b15284418912ec111f5267501",
      "a52e5f3070f344d3a24866cfe798c556",
      "d14c479172a14d7b87a7f8c988c25141",
      "6868623808cd4214ad991b759f561584",
      "4ebe643f3e264060bade038c3a33a973",
      "20d47a14a6054b29847f86e56603a97c",
      "1a9671e82abe4a3286ca931318b54302",
      "5bacb360b4bc4441b2ec8633f9eff44b",
      "54df26d6b7224b3399be9b0a3e1c4cd9",
      "8c1bc36d378547b19521ee4f1690d223",
      "22478f18d54b49e4948d8f252bfb7e8f",
      "59b056b18b0a4a5ba5f67e9b0ec81319",
      "7ebe088f0c8648458ed7ab4480317c72",
      "61f171b46b104a439e8bd66a46ccbd4d",
      "fe466737682744c08d82d5fe4ecf01ca",
      "5fb5c56fb4f946c18bfedc1caf5ec321",
      "ddc16324b9d548b4bb6c73b186700cfc",
      "decd4107fd9345aa897e602a74170eea",
      "5987e7cc1633431388a5164b1dd7ce6f",
      "048816febd794565aedd18c77638d5b7",
      "e629f53f0aa0464d97cca7082eb513e7",
      "b4b0fc76133c4ac8aa6b96e1f8d073a4",
      "8158766f7fdf469592082ec9cb2d5d30",
      "b5e43cc6e03f4b74b326d709f79fbe78",
      "0c9a2783411f4723879b1aeceef2ed78",
      "b00f12e753b84a829996ece28f87503f",
      "578124fa90724f2e88e3a03fa8f94cb4",
      "cfe17d9bb2784407bfa8d9aef1748a28",
      "f381e5a7d34e4bd08650422fc43f7502",
      "4a3680388112403f925c9ccee752d14d",
      "bd0bc8ebe4e24b9e8f0f886f6b61fbce",
      "0b6ea00c15e3436fbe22d40137fdf440",
      "6155ee68b47544d88ecddd236f547393",
      "889cd88219cb493e96ba6352264211e4",
      "cfae58afc2344647b93ad688e8be7c98",
      "c2777e0bb15c4ec8a615bf31f96527cd",
      "a1bfe525170447e99814fb868fb79023",
      "3ea0e3b3772040aa88831293cf6e7936",
      "216befa906054dd482d6698c75d78344",
      "b616dc581e8b44eda6fa46ae4673ea5b",
      "c89bc6d4ef8e4288b5e5cde572807e99",
      "f2be13e6814f438b8e8615f3d0d844ab",
      "d2a27156edee43d78988c97b90c0f141",
      "9c5c459641214bab9910c596e5051ad8",
      "002893c6d9024aebb2103d5ea31113e5",
      "eff286e4c1a144c9b7c58b324dfe3108",
      "3b86db67383a485b9800b78e465cb506",
      "9554899f7e114ced8534b9d9df9bbd54",
      "1d6f7a4e9c7741e4b2392760650a551b",
      "ac4a040996394e438732b7e0f73e2f24",
      "ec459c31c7d84c91a7ebf01c3f3203b8",
      "f2f3ab6777b344f3b496314c0dea0b80",
      "c60f4b32571144edb4c94d838148703c",
      "ebf9356fa7f74ac0a4da5f3b768edadf",
      "eae406f8e4f84eb78eeff564f9af45b9",
      "9aed1a3349db4bf8a057edde7297f55d",
      "2e5a6e7e5c704620a065ea2900a2c57a",
      "1138b7bfd721461598fa63c1d4f2b578",
      "eff6fe24659d4286bbcdd949fdebac15",
      "1c249c144b6b4aa0ab540abddb92cc44",
      "d595094bbbd24f88b240ec9c157d5e5b",
      "203ee1308cca436a82db7de192d5db16"
     ]
    },
    "id": "OCCdkhiGikaS",
    "outputId": "0a03fcc1-0931-4000-c66b-bbfde066059c"
   },
   "outputs": [],
   "source": [
    "!pip install -q transformers accelerate bitsandbytes einops pandas\n",
    "\n",
    "from transformers import AutoTokenizer, AutoModelForCausalLM, BitsAndBytesConfig, pipeline\n",
    "\n",
    "model_id = \"openchat/openchat-3.5-0106\"\n",
    "\n",
    "quant_config = BitsAndBytesConfig(\n",
    "    load_in_4bit=True,\n",
    "    bnb_4bit_compute_dtype=\"float16\",\n",
    "    bnb_4bit_use_double_quant=True,\n",
    "    bnb_4bit_quant_type=\"nf4\"\n",
    ")\n",
    "\n",
    "tokenizer = AutoTokenizer.from_pretrained(model_id)\n",
    "model = AutoModelForCausalLM.from_pretrained(\n",
    "    model_id,\n",
    "    quantization_config=quant_config,\n",
    "    device_map=\"auto\"\n",
    ")\n",
    "\n",
    "llm = pipeline(\"text-generation\", model=model, tokenizer=tokenizer)\n"
   ]
  },
  {
   "cell_type": "markdown",
   "metadata": {
    "id": "N797E2hyiqkl"
   },
   "source": [
    "Step 2: Upload data"
   ]
  },
  {
   "cell_type": "code",
   "execution_count": null,
   "metadata": {
    "colab": {
     "base_uri": "https://localhost:8080/",
     "height": 73
    },
    "id": "ALMWtvYdis44",
    "outputId": "1f09437b-fce3-40c1-d37e-4afbadf02765"
   },
   "outputs": [],
   "source": [
    "from google.colab import files\n",
    "uploaded = files.upload()"
   ]
  },
  {
   "cell_type": "markdown",
   "metadata": {
    "id": "Vgk2e-0sivtX"
   },
   "source": [
    "Step 3: Load data"
   ]
  },
  {
   "cell_type": "code",
   "execution_count": null,
   "metadata": {
    "id": "hm8hifX8izNX"
   },
   "outputs": [],
   "source": [
    "import pandas as pd\n",
    "\n",
    "# Read without headers\n",
    "df = pd.read_csv(\"headless_dataset.csv\", header=None)\n",
    "sample = df.head(20)\n"
   ]
  },
  {
   "cell_type": "markdown",
   "metadata": {
    "id": "yyL0nEwSi29P"
   },
   "source": [
    "Step 4: Define matching function and prompts"
   ]
  },
  {
   "cell_type": "code",
   "execution_count": null,
   "metadata": {
    "id": "FGXELRP7i5nt"
   },
   "outputs": [],
   "source": [
    "def format_sample_for_prompt(df_sample):\n",
    "    prompt = \"You are a data analyst. Infer column names for the dataset below. The dataset has no headers.\\n\\n\"\n",
    "    prompt += \"Here are the first few rows:\\n\\n\"\n",
    "\n",
    "    # Show data as table-like text\n",
    "    for index, row in df_sample.iterrows():\n",
    "        prompt += \", \".join([str(val) for val in row]) + \"\\n\"\n",
    "\n",
    "    prompt += \"\\nPlease guess what each column represents and return a list of column names that corresponds to each column of data.\\n\\n\"\n",
    "    prompt += \"\\nPlease only provide 1 column name to per column.\"\n",
    "    return prompt"
   ]
  },
  {
   "cell_type": "markdown",
   "metadata": {
    "id": "BvpckcmpjDP6"
   },
   "source": [
    "Step 5: Run the LLM and see if it gets the column names"
   ]
  },
  {
   "cell_type": "code",
   "execution_count": null,
   "metadata": {
    "colab": {
     "base_uri": "https://localhost:8080/"
    },
    "id": "661HuJinjGfy",
    "outputId": "d6319bee-5a10-4c75-9c0c-e3093b3b15d0"
   },
   "outputs": [],
   "source": [
    "import re\n",
    "\n",
    "prompt = format_sample_for_prompt(sample)\n",
    "response = llm(prompt, max_new_tokens=256, temperature=0.3)[0][\"generated_text\"]\n",
    "\n",
    "print(\"🔎 Guessed column names:\\n\")\n",
    "print(response)\n",
    "\n",
    "# Extract numbered column names like: \"1. Name\", \"2. Email\"\n",
    "column_name_list = [\n",
    "    re.sub(r\"^\\d+\\.\\s*\", \"\", line).strip()\n",
    "    for line in response.split(\"\\n\")\n",
    "    if re.match(r\"^\\d+\\.\\s\", line)\n",
    "]\n",
    "\n",
    "print(\"\\n✅ Converted to Python list:\")\n",
    "print(column_name_list)"
   ]
  },
  {
   "cell_type": "markdown",
   "metadata": {
    "id": "KqxRV3ljjJty"
   },
   "source": [
    "Step 6: Save the results"
   ]
  },
  {
   "cell_type": "code",
   "execution_count": null,
   "metadata": {
    "colab": {
     "base_uri": "https://localhost:8080/",
     "height": 34
    },
    "id": "gETuogcEjMDx",
    "outputId": "03327818-9021-40dc-8047-8436e0987d89"
   },
   "outputs": [],
   "source": [
    "# Only apply if the number of guessed headers matches number of columns\n",
    "if len(column_name_list) == df.shape[1]:\n",
    "    df.columns = column_name_list\n",
    "    print(\"✅ Column headers applied successfully.\")\n",
    "else:\n",
    "    print(\"⚠️ Column count mismatch. Skipping header assignment.\")\n",
    "\n",
    "# Export\n",
    "df.to_csv(\"labeled_dataset.csv\", index=False)\n",
    "\n",
    "from google.colab import files\n",
    "files.download(\"labeled_dataset.csv\")\n"
   ]
  }
 ],
 "metadata": {
  "accelerator": "GPU",
  "colab": {
   "gpuType": "A100",
   "machine_shape": "hm",
   "provenance": []
  },
  "kernelspec": {
   "display_name": "Python 3 (ipykernel)",
   "language": "python",
   "name": "python3"
  },
  "language_info": {
   "codemirror_mode": {
    "name": "ipython",
    "version": 3
   },
   "file_extension": ".py",
   "mimetype": "text/x-python",
   "name": "python",
   "nbconvert_exporter": "python",
   "pygments_lexer": "ipython3",
   "version": "3.11.5"
  }
 },
 "nbformat": 4,
 "nbformat_minor": 1
}
